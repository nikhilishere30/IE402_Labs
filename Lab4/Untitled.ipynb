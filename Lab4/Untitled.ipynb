{
 "cells": [
  {
   "cell_type": "markdown",
   "metadata": {},
   "source": [
    "# IE402 Assignment 2\n",
    "## By: 201801015\n",
    "### 11-10-2020"
   ]
  },
  {
   "cell_type": "code",
   "execution_count": 17,
   "metadata": {},
   "outputs": [
    {
     "name": "stdout",
     "output_type": "stream",
     "text": [
      "Enter no. of Rows and Columns seperated by a space:3 4\n",
      "Enter 4 values for Row 1 seperated by a space:1 1 1 1\n",
      "Enter 4 values for Row 2 seperated by a space:2 2 2 2\n",
      "Enter 4 values for Row 3 seperated by a space:3 3 3 3\n",
      "Enter 3 Ai values seperated by a space:4 4 4\n",
      "Enter 4 Bi values seperated by a space:5 5 5 5\n"
     ]
    }
   ],
   "source": [
    "import numpy as np\n",
    "from pyscipopt import Model\n",
    "\n",
    "n, m = input(\"Enter no. of Rows and Columns seperated by a space:\").split(\" \")\n",
    "n, m = int(n), int(m)\n",
    "mat = np.zeros((n,m))\n",
    "ai = np.zeros(n)\n",
    "bi = np.zeros(m)\n",
    "for i in range(n):\n",
    "    mat[i] = input(\"Enter \" + str(m) + \" values for Row \" +str(i+1) +\" seperated by a space:\").split(\" \")\n",
    "ai = input(\"Enter \" + str(n) + \" Ai values seperated by a space:\").split(\" \")\n",
    "bi = input(\"Enter \" + str(m) + \" Bi values seperated by a space:\").split(\" \")\n",
    "\n",
    "print('Initial BFS: ')\n",
    "print('Cost: ')\n",
    "print('Optimal Solution: ')\n",
    "print('Optimal Cost: ')"
   ]
  },
  {
   "cell_type": "code",
   "execution_count": null,
   "metadata": {},
   "outputs": [],
   "source": []
  }
 ],
 "metadata": {
  "kernelspec": {
   "display_name": "Python 3",
   "language": "python",
   "name": "python3"
  },
  "language_info": {
   "codemirror_mode": {
    "name": "ipython",
    "version": 3
   },
   "file_extension": ".py",
   "mimetype": "text/x-python",
   "name": "python",
   "nbconvert_exporter": "python",
   "pygments_lexer": "ipython3",
   "version": "3.8.5"
  }
 },
 "nbformat": 4,
 "nbformat_minor": 4
}
