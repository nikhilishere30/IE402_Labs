{
 "cells": [
  {
   "cell_type": "code",
   "execution_count": 2,
   "metadata": {},
   "outputs": [],
   "source": [
    "#import libraries\n",
    "import pulp as p \n",
    "import matplotlib.pyplot as plt\n",
    "import numpy as np\n",
    "import sympy as sym"
   ]
  },
  {
   "cell_type": "code",
   "execution_count": 3,
   "metadata": {},
   "outputs": [],
   "source": [
    "# Create problem Variables  \n",
    "x = p.LpVariable(\"x\", lowBound = 0)   # Create a variable x >= 0 \n",
    "y = p.LpVariable(\"y\", lowBound = 0)   # Create a variable y >= 0 \n",
    "    \n",
    "def LPP_Solver(objective, constraints, maximum):\n",
    "    # Create a LP Minimization problem \n",
    "    if maximum==True:\n",
    "        Lp_prob = p.LpProblem('Problem', p.LpMaximize)  \n",
    "    else:\n",
    "        Lp_prob = p.LpProblem('Problem', p.LpMinimize) \n",
    "\n",
    "    # Objective Function \n",
    "    Lp_prob += objective \n",
    "\n",
    "    # Constraints: \n",
    "    for c in constraints:\n",
    "        Lp_prob += c\n",
    "\n",
    "    # Display the problem \n",
    "    #print(Lp_prob) \n",
    "\n",
    "    status = Lp_prob.solve()   # Solver \n",
    "    print(p.LpStatus[status])   # The solution status \n",
    "\n",
    "    # Printing the final solution \n",
    "    print(p.value(x), p.value(y), p.value(Lp_prob.objective))\n"
   ]
  },
  {
   "cell_type": "markdown",
   "metadata": {},
   "source": [
    "# CASE 1: Unbounded region single solution"
   ]
  },
  {
   "cell_type": "markdown",
   "metadata": {},
   "source": [
    "### maximal solution"
   ]
  },
  {
   "cell_type": "code",
   "execution_count": 4,
   "metadata": {},
   "outputs": [
    {
     "name": "stdout",
     "output_type": "stream",
     "text": [
      "Unbounded\n",
      "4.0 3.0 27.0\n"
     ]
    }
   ],
   "source": [
    "#define objective function\n",
    "objective = 3 * x + 5 * y\n",
    "#define the constraints\n",
    "constraints = [ 2 * x + 3 * y >= 12, -x + y <= 3, x >= 4, y <= 3 ]\n",
    "#maximal or minimal solution?\n",
    "maximum = True\n",
    "#call the solver function\n",
    "LPP_Solver(objective, constraints, maximum)\n"
   ]
  },
  {
   "cell_type": "code",
   "execution_count": 10,
   "metadata": {},
   "outputs": [
    {
     "data": {
      "image/png": "[encoded data removed]",
      "text/plain": [
       "<Figure size 720x720 with 1 Axes>"
      ]
     },
     "metadata": {
      "needs_background": "light"
     },
     "output_type": "display_data"
    }
   ],
   "source": [
    "d = np.linspace(0,25,1000)\n",
    "x,y = np.meshgrid(d,d)\n",
    "constraints = [ 2 * x + 3 * y >= 12, -x + y <= 3, x >= 4, y <= 3 ]\n",
    "plt.figure(figsize=(10,10));\n",
    "plt.grid(True, which='both')\n",
    "plt.imshow( (constraints[0] & constraints[1] & constraints[2] & constraints[3]).astype(int) , \n",
    "                extent=(x.min(),x.max(),y.min(),y.max()),origin=\"lower\", cmap=\"Greys\", alpha = 0.3);\n",
    "xx = np.linspace(0, 50, 2000)\n",
    "\n",
    "y1 = -2.0/3.0*xx + 4\n",
    "y2 = +3 + xx\n",
    "y3 = 3*np.ones_like(xx)\n",
    "y4 = xx\n",
    "\n",
    "# Make plot\n",
    "plt.plot(xx, (y1))\n",
    "plt.plot(xx, y2)\n",
    "plt.plot(xx,y3)\n",
    "plt.plot(4*np.ones_like(xx),y4)\n",
    "plt.show()"
   ]
  },
  {
   "cell_type": "code",
   "execution_count": null,
   "metadata": {},
   "outputs": [],
   "source": []
  }
 ],
 "metadata": {
  "kernelspec": {
   "display_name": "Python 3",
   "language": "python",
   "name": "python3"
  },
  "language_info": {
   "codemirror_mode": {
    "name": "ipython",
    "version": 3
   },
   "file_extension": ".py",
   "mimetype": "text/x-python",
   "name": "python",
   "nbconvert_exporter": "python",
   "pygments_lexer": "ipython3",
   "version": "3.8.5"
  }
 },
 "nbformat": 4,
 "nbformat_minor": 4
}
